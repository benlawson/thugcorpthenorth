{
 "cells": [
  {
   "cell_type": "code",
   "execution_count": 97,
   "metadata": {
    "collapsed": false
   },
   "outputs": [],
   "source": [
    "from uberpy import Uber\n",
    "with open('uber.txt','r') as f:\n",
    "        client_id = f.readline().strip()\n",
    "        server_token = f.readline().strip()\n",
    "        secret= f.readline().strip()\n",
    "uber = Uber(client_id, server_token, secret)\n",
    "from pprint import pprint\n",
    "import pandas as pd\n",
    "import random\n",
    "from pyDOE import *\n",
    "import math\n",
    "\n",
    "from yelpapi import YelpAPI\n",
    "import pandas as pd\n",
    "with open('yelp.txt','r') as f:\n",
    "        consumer_key = f.readline().strip()\n",
    "        consumer_secret = f.readline().strip()\n",
    "        token = f.readline().strip()\n",
    "        token_secret = f.readline().strip()\n",
    "\n",
    "yelp_api = YelpAPI(consumer_key, consumer_secret, token, token_secret)"
   ]
  },
  {
   "cell_type": "code",
   "execution_count": 61,
   "metadata": {
    "collapsed": true
   },
   "outputs": [],
   "source": [
    "def meters_to_degs(x, y):\n",
    "    #takes meters in the x- and y-directions\n",
    "    #returns a tuple changes in degree\n",
    "    #this method is refered to as 'quick and dirty' and not suggested for life-dependent applications or long distances\n",
    "    return ((y/111111.0), x/(111111 * math.cos(y)))\n",
    "\n",
    "def get_max_distances(land_area):\n",
    "    #assuming counties are square (smaller area than circle - less points near or outside boundary)\n",
    "    side = math.sqrt(land_area)\n",
    "    r = side/2\n",
    "    return r\n",
    "\n",
    "def get_max_distances_circle(land_area):\n",
    "    #assuming counties are circles (which they are not, but shapes are hard)\n",
    "    r_2 = land_area/math.pi\n",
    "    r = math.sqrt(r_2)\n",
    "    return r\n",
    "\n",
    "def get_degree_ranges(land_area):\n",
    "    d = get_max_distances_circle(land_area)\n",
    "    return (meters_to_degs(d, d))"
   ]
  },
  {
   "cell_type": "code",
   "execution_count": 57,
   "metadata": {
    "collapsed": true
   },
   "outputs": [],
   "source": [
    "def sampler(geo, radius, val):\n",
    "    #row corresponds to one of the dataframe rows\n",
    "    #val is the row of the Latin Square that I will use for this sample\n",
    "    a = lhs(2, samples=40, criterion='center')\n",
    "    b = (a-0.5)*2\n",
    "    latin_square_coefficient = b[val]\n",
    "    multiplier = get_degree_ranges(radius)\n",
    "    center = [geo[0], geo[1]]\n",
    "    ret = latin_square_coefficient*multiplier + center\n",
    "    return ret"
   ]
  },
  {
   "cell_type": "code",
   "execution_count": 21,
   "metadata": {
    "collapsed": true
   },
   "outputs": [],
   "source": [
    "a = lhs(2, samples=40, criterion='center')\n",
    "b = (a-0.5)*2"
   ]
  },
  {
   "cell_type": "code",
   "execution_count": 74,
   "metadata": {
    "collapsed": false
   },
   "outputs": [],
   "source": [
    "def generate_samples(num):\n",
    "    ret = []\n",
    "    for x in xrange(num):\n",
    "    #print sampler((43.7182412,-79.378058), 630.2, x)\n",
    "         ret = ret +  [sampler((43.626609, -79.394537), 63020000, x)]\n",
    "    return ret"
   ]
  },
  {
   "cell_type": "code",
   "execution_count": 80,
   "metadata": {
    "collapsed": true
   },
   "outputs": [],
   "source": [
    "def generate_a_sample():\n",
    "    ret = sampler((43.626609, -79.394537), 63020000, 1)\n",
    "    return ret[0], ret[1]"
   ]
  },
  {
   "cell_type": "code",
   "execution_count": 92,
   "metadata": {
    "collapsed": true
   },
   "outputs": [],
   "source": [
    "def uberize(latitude, longitude):\n",
    "    return uber.get_time_estimate(latitude, longitude)"
   ]
  },
  {
   "cell_type": "code",
   "execution_count": 149,
   "metadata": {
    "collapsed": true
   },
   "outputs": [],
   "source": [
    "def yelpize():\n",
    "    ret = {}\n",
    "    search_results = yelp_api.search_query(term='', ll=\"43.626609, -79.394537\", sort=2, radius_filter=8000, offset=0)\n",
    "    for idx,y in enumerate(search_results['businesses']):\n",
    "        ret[y['name']] = [y['location']['coordinate'], y['rating']]\n",
    "    search_results = yelp_api.search_query(term='', ll=\"43.626609, -79.394537\", sort=2, radius_filter=8000, offset=20)\n",
    "    for idx,y in enumerate(search_results['businesses']):\n",
    "        ret[y['name']] = [y['location']['coordinate'], y['rating']]\n",
    "    return ret"
   ]
  },
  {
   "cell_type": "code",
   "execution_count": 150,
   "metadata": {
    "collapsed": false
   },
   "outputs": [],
   "source": [
    "x = yelpize()"
   ]
  },
  {
   "cell_type": "code",
   "execution_count": 148,
   "metadata": {
    "collapsed": false
   },
   "outputs": [
    {
     "data": {
      "text/plain": [
       "4.5"
      ]
     },
     "execution_count": 148,
     "metadata": {},
     "output_type": "execute_result"
    }
   ],
   "source": [
    "search_results['businesses'][0]['rating']"
   ]
  },
  {
   "cell_type": "code",
   "execution_count": 126,
   "metadata": {
    "collapsed": false
   },
   "outputs": [],
   "source": [
    "x = yelp_api.search_query(term='', ll=\"43.626609, -79.394537\", sort=2, radius_filter=8000, offset=40)\n"
   ]
  },
  {
   "cell_type": "code",
   "execution_count": 127,
   "metadata": {
    "collapsed": false
   },
   "outputs": [],
   "source": [
    "for idx,y in enumerate(x['businesses']):\n",
    "    print y['name']\n",
    "    print idx,y['location']['coordinate']"
   ]
  },
  {
   "cell_type": "code",
   "execution_count": 125,
   "metadata": {
    "collapsed": false
   },
   "outputs": [
    {
     "name": "stdout",
     "output_type": "stream",
     "text": [
      "Banh Mi Boys\n",
      "0 {u'latitude': 43.64884, u'longitude': -79.39695}\n",
      "Barhop\n",
      "1 {u'latitude': 43.6455994, u'longitude': -79.3935471}\n",
      "Fahrenheit Coffee\n",
      "2 {u'latitude': 43.65244524304, u'longitude': -79.372932326803}\n",
      "Estiatorio VOLOS\n",
      "3 {u'latitude': 43.6501617, u'longitude': -79.3847733}\n",
      "JaBistro\n",
      "4 {u'latitude': 43.64989, u'longitude': -79.38821}\n",
      "BarChef\n",
      "5 {u'latitude': 43.6482201, u'longitude': -79.4001694}\n",
      "Lee\n",
      "6 {u'latitude': 43.6442533, u'longitude': -79.4005078}\n",
      "La Palette\n",
      "7 {u'latitude': 43.64797, u'longitude': -79.40098}\n",
      "Khao San Road\n",
      "8 {u'latitude': 43.647551794393, u'longitude': -79.392089610738}\n",
      "Patria\n",
      "9 {u'latitude': 43.6455383, u'longitude': -79.3964081}\n",
      "Gandhi Cuisine\n",
      "10 {u'latitude': 43.6476707, u'longitude': -79.4031601}\n",
      "Sense Appeal Coffee Roasters\n",
      "11 {u'latitude': 43.6463699, u'longitude': -79.3956909}\n",
      "Beast\n",
      "12 {u'latitude': 43.6440811, u'longitude': -79.405777}\n",
      "Wilbur Mexicana\n",
      "13 {u'latitude': 43.64494, u'longitude': -79.39866}\n",
      "Buca\n",
      "14 {u'latitude': 43.64462, u'longitude': -79.40045}\n",
      "Wvrst\n",
      "15 {u'latitude': 43.64418555054, u'longitude': -79.401014855291}\n",
      "Rodney's Oyster House\n",
      "16 {u'latitude': 43.64487, u'longitude': -79.39668}\n",
      "CN Tower\n",
      "17 {u'latitude': 43.642561, u'longitude': -79.387062}\n",
      "Yuzu No Hana\n",
      "18 {u'latitude': 43.6484718, u'longitude': -79.3883438}\n",
      "Pai Northern Thai Kitchen\n",
      "19 {u'latitude': 43.647866, u'longitude': -79.3886415}\n"
     ]
    }
   ],
   "source": [
    "for idx,y in enumerate(x['businesses']):\n",
    "    print y['name']\n",
    "    print idx,y['location']['coordinate']"
   ]
  },
  {
   "cell_type": "code",
   "execution_count": 93,
   "metadata": {
    "collapsed": false
   },
   "outputs": [
    {
     "name": "stdout",
     "output_type": "stream",
     "text": [
      "{u'times': [{u'localized_display_name': u'uberX', u'estimate': 314, u'display_name': u'uberX', u'product_id': u'd1e548ac-4be5-46c0-8c86-201ac8a36fc6'}, {u'localized_display_name': u'uberXL', u'estimate': 740, u'display_name': u'uberXL', u'product_id': u'5f6b1c2b-a906-428b-acef-3190f2a79d46'}, {u'localized_display_name': u'uberSELECT', u'estimate': 245, u'display_name': u'uberSELECT', u'product_id': u'9df3dd73-e480-4072-8970-248080dd0fad'}, {u'localized_display_name': u'UberBLACK', u'estimate': 245, u'display_name': u'UberBLACK', u'product_id': u'ab3e4e4d-8dc2-422d-ab7f-9845c881d4e9'}, {u'localized_display_name': u'UberSUV', u'estimate': 397, u'display_name': u'UberSUV', u'product_id': u'57bcacad-7817-4f53-b2a7-3da2318a7bea'}, {u'localized_display_name': u'uberACCESS', u'estimate': 686, u'display_name': u'uberACCESS', u'product_id': u'2828ed54-4666-49e2-9fb9-09a2309f6816'}, {u'localized_display_name': u'uberTAXI', u'estimate': 251, u'display_name': u'uberTAXI', u'product_id': u'8e50abe8-9fc0-4243-b648-ac2b7260ecbe'}]}\n",
      "{u'times': [{u'localized_display_name': u'uberX', u'estimate': 314, u'display_name': u'uberX', u'product_id': u'd1e548ac-4be5-46c0-8c86-201ac8a36fc6'}, {u'localized_display_name': u'uberXL', u'estimate': 740, u'display_name': u'uberXL', u'product_id': u'5f6b1c2b-a906-428b-acef-3190f2a79d46'}, {u'localized_display_name': u'uberSELECT', u'estimate': 245, u'display_name': u'uberSELECT', u'product_id': u'9df3dd73-e480-4072-8970-248080dd0fad'}, {u'localized_display_name': u'UberBLACK', u'estimate': 245, u'display_name': u'UberBLACK', u'product_id': u'ab3e4e4d-8dc2-422d-ab7f-9845c881d4e9'}, {u'localized_display_name': u'UberSUV', u'estimate': 397, u'display_name': u'UberSUV', u'product_id': u'57bcacad-7817-4f53-b2a7-3da2318a7bea'}, {u'localized_display_name': u'uberACCESS', u'estimate': 686, u'display_name': u'uberACCESS', u'product_id': u'2828ed54-4666-49e2-9fb9-09a2309f6816'}, {u'localized_display_name': u'uberTAXI', u'estimate': 251, u'display_name': u'uberTAXI', u'product_id': u'8e50abe8-9fc0-4243-b648-ac2b7260ecbe'}]}\n"
     ]
    }
   ],
   "source": [
    "#def yelpize(latitude, longitude):\n",
    "print uber.get_time_estimate(43.626609, -79.394537)\n",
    "print uberize(43.626609, -79.394537)"
   ]
  },
  {
   "cell_type": "code",
   "execution_count": 94,
   "metadata": {
    "collapsed": false,
    "scrolled": true
   },
   "outputs": [
    {
     "name": "stdout",
     "output_type": "stream",
     "text": [
      "[{u'times': [{u'localized_display_name': u'uberX', u'estimate': 238, u'display_name': u'uberX', u'product_id': u'd1e548ac-4be5-46c0-8c86-201ac8a36fc6'}, {u'localized_display_name': u'uberXL', u'estimate': 238, u'display_name': u'uberXL', u'product_id': u'5f6b1c2b-a906-428b-acef-3190f2a79d46'}, {u'localized_display_name': u'uberSELECT', u'estimate': 317, u'display_name': u'uberSELECT', u'product_id': u'9df3dd73-e480-4072-8970-248080dd0fad'}, {u'localized_display_name': u'UberBLACK', u'estimate': 223, u'display_name': u'UberBLACK', u'product_id': u'ab3e4e4d-8dc2-422d-ab7f-9845c881d4e9'}, {u'localized_display_name': u'UberSUV', u'estimate': 336, u'display_name': u'UberSUV', u'product_id': u'57bcacad-7817-4f53-b2a7-3da2318a7bea'}, {u'localized_display_name': u'uberACCESS', u'estimate': 472, u'display_name': u'uberACCESS', u'product_id': u'2828ed54-4666-49e2-9fb9-09a2309f6816'}, {u'localized_display_name': u'uberTAXI', u'estimate': 215, u'display_name': u'uberTAXI', u'product_id': u'8e50abe8-9fc0-4243-b648-ac2b7260ecbe'}]}, {u'times': [{u'localized_display_name': u'uberX', u'estimate': 205, u'display_name': u'uberX', u'product_id': u'd1e548ac-4be5-46c0-8c86-201ac8a36fc6'}, {u'localized_display_name': u'uberXL', u'estimate': 287, u'display_name': u'uberXL', u'product_id': u'5f6b1c2b-a906-428b-acef-3190f2a79d46'}, {u'localized_display_name': u'uberSELECT', u'estimate': 331, u'display_name': u'uberSELECT', u'product_id': u'9df3dd73-e480-4072-8970-248080dd0fad'}, {u'localized_display_name': u'UberBLACK', u'estimate': 310, u'display_name': u'UberBLACK', u'product_id': u'ab3e4e4d-8dc2-422d-ab7f-9845c881d4e9'}, {u'localized_display_name': u'UberSUV', u'estimate': 331, u'display_name': u'UberSUV', u'product_id': u'57bcacad-7817-4f53-b2a7-3da2318a7bea'}, {u'localized_display_name': u'uberACCESS', u'estimate': 412, u'display_name': u'uberACCESS', u'product_id': u'2828ed54-4666-49e2-9fb9-09a2309f6816'}, {u'localized_display_name': u'uberTAXI', u'estimate': 170, u'display_name': u'uberTAXI', u'product_id': u'8e50abe8-9fc0-4243-b648-ac2b7260ecbe'}]}, {u'times': [{u'localized_display_name': u'uberX', u'estimate': 607, u'display_name': u'uberX', u'product_id': u'd1e548ac-4be5-46c0-8c86-201ac8a36fc6'}, {u'localized_display_name': u'uberXL', u'estimate': 742, u'display_name': u'uberXL', u'product_id': u'5f6b1c2b-a906-428b-acef-3190f2a79d46'}, {u'localized_display_name': u'uberSELECT', u'estimate': 241, u'display_name': u'uberSELECT', u'product_id': u'9df3dd73-e480-4072-8970-248080dd0fad'}, {u'localized_display_name': u'UberBLACK', u'estimate': 241, u'display_name': u'UberBLACK', u'product_id': u'ab3e4e4d-8dc2-422d-ab7f-9845c881d4e9'}, {u'localized_display_name': u'uberTAXI', u'estimate': 137, u'display_name': u'uberTAXI', u'product_id': u'8e50abe8-9fc0-4243-b648-ac2b7260ecbe'}]}, {u'times': []}, {u'times': []}]\n"
     ]
    }
   ],
   "source": [
    "s = []\n",
    "while True:\n",
    "    lat_1, lng_1 = generate_a_sample()\n",
    "    s = s +  [uberize(lat_1, lng_1)['times']]\n",
    "    if len(s) > 4:\n",
    "        break\n",
    "print s"
   ]
  },
  {
   "cell_type": "code",
   "execution_count": null,
   "metadata": {
    "collapsed": true
   },
   "outputs": [],
   "source": [
    "for x in s:\n",
    "    x"
   ]
  },
  {
   "cell_type": "code",
   "execution_count": 64,
   "metadata": {
    "collapsed": false
   },
   "outputs": [
    {
     "name": "stdout",
     "output_type": "stream",
     "text": [
      "43.6215703149 -79.4656769653\n",
      "43.6417250554 -79.3665121652\n",
      "43.6235857889 -79.4096272957\n",
      "43.6114929446 -79.4139388087\n",
      "43.6014155744 -79.3190855216\n",
      "43.6397095813 -79.3880697304\n",
      "43.6175393668 -79.3665121652\n",
      "43.6538178997 -79.435496374\n",
      "43.6094774706 -79.3622006521\n",
      "43.6114929446 -79.3104624955\n",
      "43.6074619965 -79.4699884784\n",
      "43.587307256 -79.4053157826\n",
      "43.6397095813 -79.4527424262\n",
      "43.6215703149 -79.3277085477\n",
      "43.6437405294 -79.4010042696\n",
      "43.6437405294 -79.3277085477\n",
      "43.6235857889 -79.3751351913\n",
      "43.6074619965 -79.4441194001\n",
      "43.6558333737 -79.4010042696\n",
      "43.6437405294 -79.3190855216\n",
      "43.6376941073 -79.4225618348\n",
      "43.6437405294 -79.3665121652\n",
      "43.587307256 -79.4096272957\n",
      "43.6316476851 -79.353577626\n",
      "43.6538178997 -79.3665121652\n",
      "43.6316476851 -79.439807887\n",
      "43.625601263 -79.439807887\n",
      "43.6376941073 -79.4053157826\n",
      "43.6316476851 -79.4053157826\n",
      "43.6094774706 -79.3363315738\n",
      "43.6477714775 -79.3923812435\n",
      "43.6538178997 -79.3578891391\n",
      "43.6135084187 -79.4010042696\n",
      "43.6155238927 -79.4010042696\n",
      "43.665910744 -79.4570539392\n",
      "43.66389527 -79.4096272957\n",
      "43.6376941073 -79.349266113\n",
      "43.6155238927 -79.435496374\n",
      "43.6054465225 -79.4441194001\n",
      "43.6518024256 -79.4182503218\n"
     ]
    }
   ],
   "source": [
    "for x in s:\n",
    "    try:\n",
    "         print x[0][0], x[0][1]\n",
    "    except:\n",
    "        print x"
   ]
  }
 ],
 "metadata": {
  "kernelspec": {
   "display_name": "Python 2",
   "language": "python",
   "name": "python2"
  },
  "language_info": {
   "codemirror_mode": {
    "name": "ipython",
    "version": 2
   },
   "file_extension": ".py",
   "mimetype": "text/x-python",
   "name": "python",
   "nbconvert_exporter": "python",
   "pygments_lexer": "ipython2",
   "version": "2.7.8"
  }
 },
 "nbformat": 4,
 "nbformat_minor": 0
}
